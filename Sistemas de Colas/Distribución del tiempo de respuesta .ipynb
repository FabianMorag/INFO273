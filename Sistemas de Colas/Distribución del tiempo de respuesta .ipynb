{
 "cells": [
  {
   "cell_type": "markdown",
   "metadata": {},
   "source": [
    "Para deducir la distribución de $r$ escribimos la probabilidad acumulada y la condicionamos al estado del sistema, es decir:\n",
    "\n",
    "$$P(r \\leq t) = \\sum_{n=0}^{\\infty} P(r \\leq t \\mid N=n) P(N=n)$$\n",
    "\n",
    "Si consideramos que hay $n$ trabajos en el sistema al momento que llega un nuevo trabajo, entonces su tiempo de respuesta se puede calcular como:\n",
    "\n",
    "$$r=s_1+s_2+\\cdots+s_n + s_{n+1}$$ \n",
    "\n",
    "que cumplen\n",
    "$$s_i \\sim i.i.d exp(\\mu)$$ \n",
    "\n",
    "donde $i.i.d.$ significa variables aleatorias independientes indénticamente distribuidas. \n",
    "Pero la suma de $n+1$ v.a. exponenciales $i.i.d$ sigue una distribución Gama:\n",
    "\n",
    "$$r\\mid N=n \\sim \\Gamma(\\mu, n+1)$$\n",
    "\n",
    "Entonces:\n",
    "\n",
    "$$P(r \\leq t \\mid N=n) = \\int_0^t \\mu e^{-\\mu t} \\frac{(\\mu t)^n}{n!} dt$$\n",
    "Y como \n",
    "\n",
    "$$P(N=n) = \\left( 1 - \\frac{\\lambda}{\\mu}\\right)  \\left(\\frac{\\lambda}{\\mu}\\right)^n$$\n",
    "\n",
    "Reemplazamos en la expresión inicial y tenemos:\n",
    "\n",
    "$$P(r \\leq t) = \\sum_{n=0}^{\\infty} \\left( \\int_0^t \\mu e^{-\\mu t} \\frac{(\\mu t)^n}{n!} dt\\right) \\left( 1 - \\frac{\\lambda}{\\mu}\\right)  \\left(\\frac{\\lambda}{\\mu}\\right)^n$$\n",
    "\n",
    "Intercambiando integral y sumatoria, porque todo converge, nos queda:\n",
    "$$P(r \\leq t) =  \\left( 1 - \\frac{\\lambda}{\\mu}\\right) \\int_0^t \\mu e^{-\\mu t} \\left(\\sum_{n=0}^{\\infty}\\frac{(\\mu t)^n}{n!}  \\left(\\frac{\\lambda}{\\mu}\\right)^n \\right)  dt$$\n",
    "\n",
    "Resulta que el término entre paréntesis es la expansión en serie de la función $e^{\\lambda t}$\n",
    "por lo que nos queda:\n",
    "\n",
    "$$P(r \\leq t) =  \\left( 1 - \\frac{\\lambda}{\\mu}\\right) \\int_0^t \\mu e^{-(\\mu - \\lambda) t} dt$$\n",
    "e integrando se obtiene finalmente:\n",
    "$$P(r \\leq t) =   1 -  e^{-(\\mu - \\lambda) t} $$"
   ]
  },
  {
   "cell_type": "code",
   "execution_count": null,
   "metadata": {},
   "outputs": [],
   "source": []
  }
 ],
 "metadata": {
  "kernelspec": {
   "display_name": "R",
   "language": "R",
   "name": "ir"
  },
  "language_info": {
   "codemirror_mode": "r",
   "file_extension": ".r",
   "mimetype": "text/x-r-source",
   "name": "R",
   "pygments_lexer": "r",
   "version": "3.6.1"
  }
 },
 "nbformat": 4,
 "nbformat_minor": 2
}
